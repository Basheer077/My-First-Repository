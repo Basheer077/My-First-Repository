{
 "cells": [
  {
   "cell_type": "code",
   "execution_count": 1,
   "id": "dab0cfa1",
   "metadata": {},
   "outputs": [],
   "source": [
    "import pandas as pd"
   ]
  },
  {
   "cell_type": "code",
   "execution_count": 2,
   "id": "38a720c5",
   "metadata": {},
   "outputs": [
    {
     "data": {
      "text/html": [
       "<div>\n",
       "<style scoped>\n",
       "    .dataframe tbody tr th:only-of-type {\n",
       "        vertical-align: middle;\n",
       "    }\n",
       "\n",
       "    .dataframe tbody tr th {\n",
       "        vertical-align: top;\n",
       "    }\n",
       "\n",
       "    .dataframe thead th {\n",
       "        text-align: right;\n",
       "    }\n",
       "</style>\n",
       "<table border=\"1\" class=\"dataframe\">\n",
       "  <thead>\n",
       "    <tr style=\"text-align: right;\">\n",
       "      <th></th>\n",
       "      <th>Name</th>\n",
       "      <th>Batch</th>\n",
       "      <th>Roll No</th>\n",
       "      <th>Address</th>\n",
       "    </tr>\n",
       "  </thead>\n",
       "  <tbody>\n",
       "    <tr>\n",
       "      <th>0</th>\n",
       "      <td>Ahmed</td>\n",
       "      <td>Python 12</td>\n",
       "      <td>2541</td>\n",
       "      <td>Adoni</td>\n",
       "    </tr>\n",
       "    <tr>\n",
       "      <th>1</th>\n",
       "      <td>Basheer</td>\n",
       "      <td>Java 13</td>\n",
       "      <td>7541</td>\n",
       "      <td>Hyderabad</td>\n",
       "    </tr>\n",
       "    <tr>\n",
       "      <th>2</th>\n",
       "      <td>George</td>\n",
       "      <td>Oracle15</td>\n",
       "      <td>9632</td>\n",
       "      <td>Bangalore</td>\n",
       "    </tr>\n",
       "  </tbody>\n",
       "</table>\n",
       "</div>"
      ],
      "text/plain": [
       "      Name     Batch   Roll No    Address\n",
       "0    Ahmed  Python 12     2541      Adoni\n",
       "1  Basheer    Java 13     7541  Hyderabad\n",
       "2   George   Oracle15     9632  Bangalore"
      ]
     },
     "execution_count": 2,
     "metadata": {},
     "output_type": "execute_result"
    }
   ],
   "source": [
    "pd.read_excel(r'C:\\Users\\HP\\Desktop\\Data Science\\Temp files\\Dataset1.xlsx')"
   ]
  },
  {
   "cell_type": "code",
   "execution_count": 3,
   "id": "1092a096",
   "metadata": {},
   "outputs": [
    {
     "data": {
      "text/html": [
       "<div>\n",
       "<style scoped>\n",
       "    .dataframe tbody tr th:only-of-type {\n",
       "        vertical-align: middle;\n",
       "    }\n",
       "\n",
       "    .dataframe tbody tr th {\n",
       "        vertical-align: top;\n",
       "    }\n",
       "\n",
       "    .dataframe thead th {\n",
       "        text-align: right;\n",
       "    }\n",
       "</style>\n",
       "<table border=\"1\" class=\"dataframe\">\n",
       "  <thead>\n",
       "    <tr style=\"text-align: right;\">\n",
       "      <th></th>\n",
       "      <th>Name</th>\n",
       "      <th>Batch</th>\n",
       "      <th>Roll No</th>\n",
       "      <th>Address</th>\n",
       "    </tr>\n",
       "  </thead>\n",
       "  <tbody>\n",
       "    <tr>\n",
       "      <th>0</th>\n",
       "      <td>Ahmed</td>\n",
       "      <td>Python 12</td>\n",
       "      <td>2541</td>\n",
       "      <td>Adoni</td>\n",
       "    </tr>\n",
       "    <tr>\n",
       "      <th>1</th>\n",
       "      <td>Basheer</td>\n",
       "      <td>Java 13</td>\n",
       "      <td>7541</td>\n",
       "      <td>Hyderabad</td>\n",
       "    </tr>\n",
       "    <tr>\n",
       "      <th>2</th>\n",
       "      <td>George</td>\n",
       "      <td>Oracle15</td>\n",
       "      <td>9632</td>\n",
       "      <td>Bangalore</td>\n",
       "    </tr>\n",
       "    <tr>\n",
       "      <th>3</th>\n",
       "      <td>Martin</td>\n",
       "      <td>FUW</td>\n",
       "      <td>3652</td>\n",
       "      <td>Oregon</td>\n",
       "    </tr>\n",
       "    <tr>\n",
       "      <th>4</th>\n",
       "      <td>Jennifer</td>\n",
       "      <td>Python 12</td>\n",
       "      <td>8475</td>\n",
       "      <td>Texas</td>\n",
       "    </tr>\n",
       "  </tbody>\n",
       "</table>\n",
       "</div>"
      ],
      "text/plain": [
       "       Name     Batch   Roll No    Address\n",
       "0     Ahmed  Python 12     2541      Adoni\n",
       "1   Basheer    Java 13     7541  Hyderabad\n",
       "2    George   Oracle15     9632  Bangalore\n",
       "3    Martin        FUW     3652     Oregon\n",
       "4  Jennifer  Python 12     8475      Texas"
      ]
     },
     "execution_count": 3,
     "metadata": {},
     "output_type": "execute_result"
    }
   ],
   "source": [
    "pd.read_csv(r'C:\\Users\\HP\\Desktop\\Data Science\\Temp files\\dataset2.csv')"
   ]
  },
  {
   "cell_type": "markdown",
   "id": "fbbd1fb9",
   "metadata": {},
   "source": [
    "# for TSV file also you have use CSV only\n"
   ]
  },
  {
   "cell_type": "code",
   "execution_count": 12,
   "id": "93b9c91f",
   "metadata": {},
   "outputs": [
    {
     "data": {
      "text/html": [
       "<div>\n",
       "<style scoped>\n",
       "    .dataframe tbody tr th:only-of-type {\n",
       "        vertical-align: middle;\n",
       "    }\n",
       "\n",
       "    .dataframe tbody tr th {\n",
       "        vertical-align: top;\n",
       "    }\n",
       "\n",
       "    .dataframe thead th {\n",
       "        text-align: right;\n",
       "    }\n",
       "</style>\n",
       "<table border=\"1\" class=\"dataframe\">\n",
       "  <thead>\n",
       "    <tr style=\"text-align: right;\">\n",
       "      <th></th>\n",
       "      <th>Name\\tBatch\\tCity\\tphonenumber</th>\n",
       "    </tr>\n",
       "  </thead>\n",
       "  <tbody>\n",
       "    <tr>\n",
       "      <th>0</th>\n",
       "      <td>Ahmed\\tba251\\tAdoni\\t125463</td>\n",
       "    </tr>\n",
       "    <tr>\n",
       "      <th>1</th>\n",
       "      <td>George\\tpython12\\tHyderabad\\t854631</td>\n",
       "    </tr>\n",
       "  </tbody>\n",
       "</table>\n",
       "</div>"
      ],
      "text/plain": [
       "        Name\\tBatch\\tCity\\tphonenumber\n",
       "0          Ahmed\\tba251\\tAdoni\\t125463\n",
       "1  George\\tpython12\\tHyderabad\\t854631"
      ]
     },
     "execution_count": 12,
     "metadata": {},
     "output_type": "execute_result"
    }
   ],
   "source": [
    "pd.read_csv(r'C:\\Users\\HP\\Desktop\\Data Science\\Temp files\\dataset3.tsv')"
   ]
  },
  {
   "cell_type": "markdown",
   "id": "e0217d65",
   "metadata": {},
   "source": [
    "# (we use this delimiter separator) ,sep='\\t'"
   ]
  },
  {
   "cell_type": "code",
   "execution_count": 11,
   "id": "72a9c5b3",
   "metadata": {},
   "outputs": [
    {
     "data": {
      "text/html": [
       "<div>\n",
       "<style scoped>\n",
       "    .dataframe tbody tr th:only-of-type {\n",
       "        vertical-align: middle;\n",
       "    }\n",
       "\n",
       "    .dataframe tbody tr th {\n",
       "        vertical-align: top;\n",
       "    }\n",
       "\n",
       "    .dataframe thead th {\n",
       "        text-align: right;\n",
       "    }\n",
       "</style>\n",
       "<table border=\"1\" class=\"dataframe\">\n",
       "  <thead>\n",
       "    <tr style=\"text-align: right;\">\n",
       "      <th></th>\n",
       "      <th>Name</th>\n",
       "      <th>Batch</th>\n",
       "      <th>City</th>\n",
       "      <th>phonenumber</th>\n",
       "    </tr>\n",
       "  </thead>\n",
       "  <tbody>\n",
       "    <tr>\n",
       "      <th>0</th>\n",
       "      <td>Ahmed</td>\n",
       "      <td>ba251</td>\n",
       "      <td>Adoni</td>\n",
       "      <td>125463</td>\n",
       "    </tr>\n",
       "    <tr>\n",
       "      <th>1</th>\n",
       "      <td>George</td>\n",
       "      <td>python12</td>\n",
       "      <td>Hyderabad</td>\n",
       "      <td>854631</td>\n",
       "    </tr>\n",
       "  </tbody>\n",
       "</table>\n",
       "</div>"
      ],
      "text/plain": [
       "     Name     Batch       City  phonenumber\n",
       "0   Ahmed     ba251      Adoni       125463\n",
       "1  George  python12  Hyderabad       854631"
      ]
     },
     "execution_count": 11,
     "metadata": {},
     "output_type": "execute_result"
    }
   ],
   "source": [
    "pd.read_csv(r'C:\\Users\\HP\\Desktop\\Data Science\\Temp files\\dataset3.tsv',sep='\\t')"
   ]
  },
  {
   "cell_type": "markdown",
   "id": "014457e8",
   "metadata": {},
   "source": [
    "# Another library OS stands for Operating System"
   ]
  },
  {
   "cell_type": "code",
   "execution_count": 13,
   "id": "5a6efebb",
   "metadata": {},
   "outputs": [],
   "source": [
    "import os"
   ]
  },
  {
   "cell_type": "markdown",
   "id": "7dff820c",
   "metadata": {},
   "source": [
    "os.getcwd()"
   ]
  },
  {
   "cell_type": "code",
   "execution_count": null,
   "id": "ea86c332",
   "metadata": {},
   "outputs": [],
   "source": [
    "# Here you no need to give full path only file name+ file type"
   ]
  },
  {
   "cell_type": "code",
   "execution_count": 15,
   "id": "457a78d9",
   "metadata": {},
   "outputs": [],
   "source": [
    "import pandas as pd"
   ]
  },
  {
   "cell_type": "code",
   "execution_count": 19,
   "id": "cf357d22",
   "metadata": {},
   "outputs": [
    {
     "data": {
      "text/html": [
       "<div>\n",
       "<style scoped>\n",
       "    .dataframe tbody tr th:only-of-type {\n",
       "        vertical-align: middle;\n",
       "    }\n",
       "\n",
       "    .dataframe tbody tr th {\n",
       "        vertical-align: top;\n",
       "    }\n",
       "\n",
       "    .dataframe thead th {\n",
       "        text-align: right;\n",
       "    }\n",
       "</style>\n",
       "<table border=\"1\" class=\"dataframe\">\n",
       "  <thead>\n",
       "    <tr style=\"text-align: right;\">\n",
       "      <th></th>\n",
       "      <th>Name</th>\n",
       "      <th>Batch</th>\n",
       "      <th>Roll No</th>\n",
       "      <th>Address</th>\n",
       "    </tr>\n",
       "  </thead>\n",
       "  <tbody>\n",
       "    <tr>\n",
       "      <th>0</th>\n",
       "      <td>Ahmed</td>\n",
       "      <td>Python 12</td>\n",
       "      <td>2541</td>\n",
       "      <td>Adoni</td>\n",
       "    </tr>\n",
       "    <tr>\n",
       "      <th>1</th>\n",
       "      <td>Basheer</td>\n",
       "      <td>Java 13</td>\n",
       "      <td>7541</td>\n",
       "      <td>Hyderabad</td>\n",
       "    </tr>\n",
       "    <tr>\n",
       "      <th>2</th>\n",
       "      <td>George</td>\n",
       "      <td>Oracle15</td>\n",
       "      <td>9632</td>\n",
       "      <td>Bangalore</td>\n",
       "    </tr>\n",
       "  </tbody>\n",
       "</table>\n",
       "</div>"
      ],
      "text/plain": [
       "      Name     Batch   Roll No    Address\n",
       "0    Ahmed  Python 12     2541      Adoni\n",
       "1  Basheer    Java 13     7541  Hyderabad\n",
       "2   George   Oracle15     9632  Bangalore"
      ]
     },
     "execution_count": 19,
     "metadata": {},
     "output_type": "execute_result"
    }
   ],
   "source": [
    "pd.read_excel('Dataset1.xlsx')"
   ]
  },
  {
   "cell_type": "code",
   "execution_count": null,
   "id": "c14a6f6c",
   "metadata": {},
   "outputs": [],
   "source": []
  }
 ],
 "metadata": {
  "kernelspec": {
   "display_name": "Python 3 (ipykernel)",
   "language": "python",
   "name": "python3"
  },
  "language_info": {
   "codemirror_mode": {
    "name": "ipython",
    "version": 3
   },
   "file_extension": ".py",
   "mimetype": "text/x-python",
   "name": "python",
   "nbconvert_exporter": "python",
   "pygments_lexer": "ipython3",
   "version": "3.9.13"
  }
 },
 "nbformat": 4,
 "nbformat_minor": 5
}
